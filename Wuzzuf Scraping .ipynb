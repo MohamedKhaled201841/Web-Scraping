{
 "cells": [
  {
   "cell_type": "code",
   "execution_count": 28,
   "id": "476f01bf",
   "metadata": {},
   "outputs": [],
   "source": [
    "import pandas as pd\n",
    "import time\n",
    "from selenium import webdriver\n",
    "from selenium.webdriver.chrome.options import Options\n",
    "from selenium.webdriver.common.keys import Keys\n",
    "import csv\n",
    "import random\n",
    "driver_path=r\"C:\\Program Files (x86)\\chromedriver_win32\\chromedriver.exe\"\n"
   ]
  },
  {
   "cell_type": "code",
   "execution_count": 20,
   "id": "9cad62bc",
   "metadata": {},
   "outputs": [],
   "source": [
    "option=webdriver.ChromeOptions()\n",
    "option.add_argument(\"~disk-cache-size=3000000000\")"
   ]
  },
  {
   "cell_type": "code",
   "execution_count": 22,
   "id": "42302a0e",
   "metadata": {},
   "outputs": [],
   "source": [
    "driver=webdriver.Chrome(driver_path)\n",
    "driver.get(\"https://wuzzuf.net/jobs/egypt\")"
   ]
  },
  {
   "cell_type": "code",
   "execution_count": 65,
   "id": "e3cace34",
   "metadata": {},
   "outputs": [],
   "source": [
    "my_list=[\"Data Science\"]"
   ]
  },
  {
   "cell_type": "code",
   "execution_count": 66,
   "id": "40d49456",
   "metadata": {},
   "outputs": [],
   "source": [
    "searchplace=driver.find_element_by_css_selector(\"input[class='search-bar-input']\").send_keys(\"Data Science\")"
   ]
  },
  {
   "cell_type": "code",
   "execution_count": 68,
   "id": "ca52919c",
   "metadata": {},
   "outputs": [],
   "source": [
    "searchbutton=driver.find_element_by_css_selector(\"button[class='btn btn-primary search-btn']\").click()"
   ]
  },
  {
   "cell_type": "code",
   "execution_count": 95,
   "id": "256fb64c",
   "metadata": {},
   "outputs": [],
   "source": [
    "jobs_per_page=driver.find_elements_by_css_selector(\"div[class='css-1gatmva e1v1l3u10']\")"
   ]
  },
  {
   "cell_type": "code",
   "execution_count": 70,
   "id": "29ccb9cb",
   "metadata": {},
   "outputs": [
    {
     "name": "stdout",
     "output_type": "stream",
     "text": [
      "Data Science Instructor\n",
      "EpsilonAI - Nasr City, Cairo, Egypt\n",
      "3 days ago\n",
      "Full Time\n",
      "Part Time\n",
      "Freelance / Project\n",
      "Entry Level · 1+ Yrs of Exp · IT/Software Development · Engineering - Telecom/Technology · Training/Instructor ·\n",
      "Data Science\n",
      "·\n",
      "Computer Science\n",
      "· Computer Engineering\n",
      "· Python\n",
      "· Machine Learning\n",
      "· Deep Learning\n",
      "· Artificial Intelligence (AI)\n",
      "Medical Data Processor (Science Graduates)\n",
      "NEXtCARE - New Cairo, Cairo, Egypt\n",
      "12 days ago\n",
      "Full Time\n",
      "Shift Based\n",
      "Experienced · 2+ Yrs of Exp · Administration · R&D/Science ·\n",
      "Science\n",
      "· Health Care\n",
      "· Insurance\n",
      "·\n",
      "Data Entry\n",
      "· Veterinary\n",
      "·\n",
      "Data Processor\n",
      "· English\n",
      "· Administration\n",
      "Data Scientist & BI Developer\n",
      "Easy System - Mokattam, Cairo, Egypt\n",
      "8 hours ago\n",
      "Full Time\n",
      "Experienced · 5 - 10 Yrs of Exp · IT/Software Development · Engineering - Telecom/Technology\n",
      "· Python\n",
      "·\n",
      "Data Science\n",
      "· Information Technology (IT)\n",
      "·\n",
      "Data\n",
      "·\n",
      "Computer Science\n",
      "· Oracle Obiee\n",
      "· Microsoft Power BI\n",
      "· Power BI\n",
      "Data Analyst\n",
      "Knoz Elhekma Company - Nasr City, Cairo, Egypt\n",
      "1 day ago\n",
      "Full Time\n",
      "Experienced · 3 - 5 Yrs of Exp · Analyst/Research ·\n",
      "Data Analyst\n",
      "· Information Technology (IT)\n",
      "· Analysis\n",
      "·\n",
      "Computer Science\n",
      "·\n",
      "Data Analysis\n",
      "· Software\n",
      "Data Management & Analytics Consultant - ETL & BI\n",
      "Ejada (Cairo) - Cairo, Egypt\n",
      "5 days ago\n",
      "Full Time\n",
      "Experienced · 5 - 10 Yrs of Exp · IT/Software Development · Analyst/Research · Engineering - Telecom/Technology\n",
      "· BI\n",
      "· ETL\n",
      "· Qlik\n",
      "· SQL\n",
      "· SSIS\n",
      "· Informatica ETL\n",
      "· Tableau\n",
      "Big Data Engineer\n",
      "Path-Solutions - Maadi, Cairo, Egypt\n",
      "1 day ago\n",
      "Full Time\n",
      "Experienced · 5+ Yrs of Exp · IT/Software Development · Engineering - Telecom/Technology ·\n",
      "Big Data\n",
      "· Hadoop\n",
      "· Spark\n",
      "· Algorithms\n",
      "· Computer Engineering\n",
      "·\n",
      "Computer Science\n",
      "·\n",
      "Data\n",
      "· Engineering\n",
      "Data Mining Specialist\n",
      "Talaat Moustafa Group - Dokki, Giza, Egypt\n",
      "8 days ago\n",
      "Full Time\n",
      "Experienced · 2 - 5 Yrs of Exp · IT/Software Development · Analyst/Research ·\n",
      "Data Analysis\n",
      "·\n",
      "Data Mining\n",
      "· Research\n",
      "· computer\n",
      "·\n",
      "Computer Science\n",
      "· Customer Service\n",
      "·\n",
      "Data Entry\n",
      "· Microsoft Office\n",
      "Senior Integration Engineer [IBM APIC & Data power]\n",
      "Ejada (Cairo) - Cairo, Egypt\n",
      "4 days ago\n",
      "Full Time\n",
      "Experienced · 3 - 6 Yrs of Exp · IT/Software Development · Engineering - Telecom/Technology ·\n",
      "Big Data\n",
      "· Business Intelligence\n",
      "· Engineering\n",
      "· BI\n",
      "· Oracle\n",
      "· SQL\n",
      "· RESTful APIs Design\n",
      "· SOAP Interface Design\n",
      "Data Analysis Specialist\n",
      "LG Electronics - Katameya, Cairo, Egypt\n",
      "11 days ago\n",
      "Full Time\n",
      "Experienced · 3 - 7 Yrs of Exp · IT/Software Development · Operations/Management · Analyst/Research\n",
      "· Business Intelligence\n",
      "· SQL\n",
      "· BI\n",
      "·\n",
      "Data\n",
      "· Information Technology (IT)\n",
      "· Analysis\n",
      "· Reporting\n",
      "Business Data Analyst\n",
      "R&S Management Consultancy - Maadi, Cairo, Egypt\n",
      "7 days ago\n",
      "Internship\n",
      "Student · IT/Software Development · Analyst/Research\n",
      "· CRM\n",
      "· ERP\n",
      "· Business Analysis\n",
      "·\n",
      "Computer Science\n",
      "· Information Technology (IT)\n",
      "· Information Analysis\n",
      "Senior Data Engineer\n",
      "Andela - Cairo, Egypt\n",
      "13 days ago\n",
      "Full Time\n",
      "Freelance / Project\n",
      "Work From Home\n",
      "Experienced · 2 - 8 Yrs of Exp · IT/Software Development · Engineering - Telecom/Technology ·\n",
      "Computer Science\n",
      "· Information Technology (IT)\n",
      "· Software Development\n",
      "· Software Engineering\n",
      "· Engineering\n",
      "· Software\n",
      "·\n",
      "Data Science\n",
      "·\n",
      "Data\n",
      "Senior Data Developer - ETL\n",
      "KnowledgeNet - Nasr City, Cairo, Egypt\n",
      "14 days ago\n",
      "Full Time\n",
      "Experienced · 4+ Yrs of Exp · IT/Software Development · Quality · Engineering - Telecom/Technology ·\n",
      "Computer Science\n",
      "· Information Technology (IT)\n",
      "· SQL\n",
      "· ETL\n",
      "· Microsoft SQL Server\n",
      "·\n",
      "Data Developer\n",
      "·\n",
      "Data Stage\n",
      "Data Analysis Instructor (Excel - Power BI)\n",
      "EpsilonAI - Nasr City, Cairo, Egypt\n",
      "14 days ago\n",
      "Full Time\n",
      "Part Time\n",
      "Freelance / Project\n",
      "Entry Level · 1+ Yrs of Exp · IT/Software Development · Analyst/Research · Training/Instructor\n",
      "· Analysis\n",
      "· business\n",
      "· Business Intelligence\n",
      "·\n",
      "Data Analysis\n",
      "·\n",
      "Computer Science\n",
      "· Power BI\n",
      "· SQL\n",
      "Data Protection Specialist\n",
      "ITS - Cairo, Egypt\n",
      "13 days ago\n",
      "Full Time\n",
      "Experienced · 10 - 13 Yrs of Exp · IT/Software Development · Analyst/Research · Engineering - Telecom/Technology\n",
      "· Computer Engineering\n",
      "· Information Security\n",
      "· CIPT\n",
      "· CIPP\n",
      "· CIPM\n",
      "·\n",
      "Computer Science\n",
      "· Security\n",
      "Data Engineer\n",
      "Confidential - Cairo, Egypt\n",
      "18 days ago\n",
      "Full Time\n",
      "Experienced · 4 - 6 Yrs of Exp · IT/Software Development · Engineering - Telecom/Technology\n",
      "· Analysis\n",
      "· BI\n",
      "· Computer Engineering\n",
      "·\n",
      "Computer Science\n",
      "·\n",
      "Data\n",
      "· Engineering\n",
      "· Information Technology (IT)\n",
      "· Python\n"
     ]
    }
   ],
   "source": [
    "for job in jobs_per_page:\n",
    "    print(job.text)"
   ]
  },
  {
   "cell_type": "code",
   "execution_count": 168,
   "id": "1c734728",
   "metadata": {},
   "outputs": [],
   "source": [
    "job_titles_list=[]\n",
    "job_providers_list=[]\n",
    "provider_location_list=[]"
   ]
  },
  {
   "cell_type": "code",
   "execution_count": 169,
   "id": "a5fcc529",
   "metadata": {},
   "outputs": [],
   "source": [
    "for i in range(45):\n",
    "    time.sleep(2)\n",
    "    jobs_per_page=driver.find_elements_by_css_selector(\"div[class='css-1gatmva e1v1l3u10']\")\n",
    "    time.sleep(2)\n",
    "    for job in jobs_per_page:\n",
    "        \n",
    "        job_title=job.find_element_by_css_selector(\"a[class='css-o171kl']\")\n",
    "        job_titles_list.append(job_title.text)\n",
    "        job_provider=job.find_element_by_css_selector(\"a[class='css-17s97q8']\")\n",
    "        job_providers_list.append(job_provider.text)\n",
    "        provider_location=job.find_element_by_css_selector(\"span[class='css-5wys0k']\")\n",
    "        provider_location_list.append(provider_location.text)\n",
    "    driver.find_element_by_css_selector(\"button[class='css-1rodp7n ezfki8j0']\").click()\n",
    "    "
   ]
  },
  {
   "cell_type": "code",
   "execution_count": 170,
   "id": "f69d1190",
   "metadata": {},
   "outputs": [
    {
     "data": {
      "text/plain": [
       "675"
      ]
     },
     "execution_count": 170,
     "metadata": {},
     "output_type": "execute_result"
    }
   ],
   "source": [
    "len(job_titles_list)"
   ]
  },
  {
   "cell_type": "code",
   "execution_count": 178,
   "id": "232e204d",
   "metadata": {},
   "outputs": [],
   "source": [
    "import matplotlib.pyplot as plt\n",
    "x = pd.DataFrame(job_titles_list)\n"
   ]
  },
  {
   "cell_type": "code",
   "execution_count": 196,
   "id": "eb51f23d",
   "metadata": {},
   "outputs": [
    {
     "data": {
      "text/html": [
       "<div>\n",
       "<style scoped>\n",
       "    .dataframe tbody tr th:only-of-type {\n",
       "        vertical-align: middle;\n",
       "    }\n",
       "\n",
       "    .dataframe tbody tr th {\n",
       "        vertical-align: top;\n",
       "    }\n",
       "\n",
       "    .dataframe thead th {\n",
       "        text-align: right;\n",
       "    }\n",
       "</style>\n",
       "<table border=\"1\" class=\"dataframe\">\n",
       "  <thead>\n",
       "    <tr style=\"text-align: right;\">\n",
       "      <th></th>\n",
       "      <th>job</th>\n",
       "    </tr>\n",
       "  </thead>\n",
       "  <tbody>\n",
       "    <tr>\n",
       "      <th>0</th>\n",
       "      <td>Data Science Instructor</td>\n",
       "    </tr>\n",
       "    <tr>\n",
       "      <th>1</th>\n",
       "      <td>Medical Data Processor (Science Graduates)</td>\n",
       "    </tr>\n",
       "    <tr>\n",
       "      <th>2</th>\n",
       "      <td>Data Scientist &amp; BI Developer</td>\n",
       "    </tr>\n",
       "    <tr>\n",
       "      <th>3</th>\n",
       "      <td>Data Analyst</td>\n",
       "    </tr>\n",
       "    <tr>\n",
       "      <th>4</th>\n",
       "      <td>Data Management &amp; Analytics Consultant - ETL &amp; BI</td>\n",
       "    </tr>\n",
       "    <tr>\n",
       "      <th>...</th>\n",
       "      <td>...</td>\n",
       "    </tr>\n",
       "    <tr>\n",
       "      <th>670</th>\n",
       "      <td>Quality Manager</td>\n",
       "    </tr>\n",
       "    <tr>\n",
       "      <th>671</th>\n",
       "      <td>Senior HSE Engineer</td>\n",
       "    </tr>\n",
       "    <tr>\n",
       "      <th>672</th>\n",
       "      <td>District Manager- in Governorates ( الشرقية/ال...</td>\n",
       "    </tr>\n",
       "    <tr>\n",
       "      <th>673</th>\n",
       "      <td>Technical Consulting Specialist (Senior)– Clou...</td>\n",
       "    </tr>\n",
       "    <tr>\n",
       "      <th>674</th>\n",
       "      <td>System Engineer (Exchange)</td>\n",
       "    </tr>\n",
       "  </tbody>\n",
       "</table>\n",
       "<p>675 rows × 1 columns</p>\n",
       "</div>"
      ],
      "text/plain": [
       "                                                   job\n",
       "0                              Data Science Instructor\n",
       "1           Medical Data Processor (Science Graduates)\n",
       "2                        Data Scientist & BI Developer\n",
       "3                                         Data Analyst\n",
       "4    Data Management & Analytics Consultant - ETL & BI\n",
       "..                                                 ...\n",
       "670                                    Quality Manager\n",
       "671                                Senior HSE Engineer\n",
       "672  District Manager- in Governorates ( الشرقية/ال...\n",
       "673  Technical Consulting Specialist (Senior)– Clou...\n",
       "674                         System Engineer (Exchange)\n",
       "\n",
       "[675 rows x 1 columns]"
      ]
     },
     "execution_count": 196,
     "metadata": {},
     "output_type": "execute_result"
    }
   ],
   "source": [
    "x.columns=[\"job\"]\n",
    "x"
   ]
  },
  {
   "cell_type": "code",
   "execution_count": 203,
   "id": "d3f00dae",
   "metadata": {},
   "outputs": [
    {
     "data": {
      "text/plain": [
       "job                                                 \n",
       "Data Analyst                                            7\n",
       "Senior Data Engineer                                    4\n",
       "Senior Database Administrator                           3\n",
       "Data Engineer                                           3\n",
       "Database Administrator                                  2\n",
       "Senior Oracle Database Administrator                    2\n",
       "Oracle Database Administrator                           2\n",
       "Data Scientist                                          2\n",
       "Postgresql Database Administrator                       1\n",
       "Oracle Database Administrator DBA                       1\n",
       "Oracle Database Administrator/ Cairo                    1\n",
       "Senior Data Developer - ETL                             1\n",
       "Senior Applications and Databases Administrator         1\n",
       "Senior Big Data Engineer                                1\n",
       "Lead Data Scientist                                     1\n",
       "Senior Database Engineer \"Microsoft\"                    1\n",
       "Senior Integration Engineer [IBM APIC & Data power]     1\n",
       "Medical Data Processor (Science Graduates)              1\n",
       "Big Data Engineer                                       1\n",
       "Junior Data Analyst                                     1\n",
       "Big Data Engineer - Jumia Food                          1\n",
       "Database & ERP Administrator                            1\n",
       "Data Scientist & BI Developer                           1\n",
       "Data Science Instructor                                 1\n",
       "Data Quality Engineer                                   1\n",
       "Data Quality Assurance Analyst Engineer                 1\n",
       "Data Protection Specialist                              1\n",
       "Data Mining Specialist                                  1\n",
       "Data Management & Analytics Consultant - ETL & BI       1\n",
       "Data Center Engineer                                    1\n",
       "Data Analysis Specialist                                1\n",
       "Data Analysis Instructor (Excel - Power BI)             1\n",
       "Business Data Analyst                                   1\n",
       "Technical Lead – Data Center Administration / VMware    1\n",
       "dtype: int64"
      ]
     },
     "execution_count": 203,
     "metadata": {},
     "output_type": "execute_result"
    }
   ],
   "source": [
    "x[x.job.str.contains(\"Data\")].value_counts()"
   ]
  },
  {
   "cell_type": "code",
   "execution_count": 202,
   "id": "cde63adc",
   "metadata": {},
   "outputs": [
    {
     "ename": "NoSuchWindowException",
     "evalue": "Message: no such window: window was already closed\n  (Session info: chrome=97.0.4692.99)\n",
     "output_type": "error",
     "traceback": [
      "\u001b[1;31m---------------------------------------------------------------------------\u001b[0m",
      "\u001b[1;31mNoSuchWindowException\u001b[0m                     Traceback (most recent call last)",
      "\u001b[1;32m<ipython-input-202-71999227bea4>\u001b[0m in \u001b[0;36m<module>\u001b[1;34m\u001b[0m\n\u001b[1;32m----> 1\u001b[1;33m \u001b[0mdriver\u001b[0m\u001b[1;33m.\u001b[0m\u001b[0mfind_element_by_css_selector\u001b[0m\u001b[1;33m(\u001b[0m\u001b[1;34m\"span[class='css-1a5jpu7']\"\u001b[0m\u001b[1;33m)\u001b[0m\u001b[1;33m.\u001b[0m\u001b[0mtext\u001b[0m\u001b[1;33m\u001b[0m\u001b[1;33m\u001b[0m\u001b[0m\n\u001b[0m",
      "\u001b[1;32m~\\anaconda3\\envs\\python\\lib\\site-packages\\selenium\\webdriver\\remote\\webdriver.py\u001b[0m in \u001b[0;36mfind_element_by_css_selector\u001b[1;34m(self, css_selector)\u001b[0m\n\u001b[0;32m    596\u001b[0m             \u001b[0melement\u001b[0m \u001b[1;33m=\u001b[0m \u001b[0mdriver\u001b[0m\u001b[1;33m.\u001b[0m\u001b[0mfind_element_by_css_selector\u001b[0m\u001b[1;33m(\u001b[0m\u001b[1;34m'#foo'\u001b[0m\u001b[1;33m)\u001b[0m\u001b[1;33m\u001b[0m\u001b[1;33m\u001b[0m\u001b[0m\n\u001b[0;32m    597\u001b[0m         \"\"\"\n\u001b[1;32m--> 598\u001b[1;33m         \u001b[1;32mreturn\u001b[0m \u001b[0mself\u001b[0m\u001b[1;33m.\u001b[0m\u001b[0mfind_element\u001b[0m\u001b[1;33m(\u001b[0m\u001b[0mby\u001b[0m\u001b[1;33m=\u001b[0m\u001b[0mBy\u001b[0m\u001b[1;33m.\u001b[0m\u001b[0mCSS_SELECTOR\u001b[0m\u001b[1;33m,\u001b[0m \u001b[0mvalue\u001b[0m\u001b[1;33m=\u001b[0m\u001b[0mcss_selector\u001b[0m\u001b[1;33m)\u001b[0m\u001b[1;33m\u001b[0m\u001b[1;33m\u001b[0m\u001b[0m\n\u001b[0m\u001b[0;32m    599\u001b[0m \u001b[1;33m\u001b[0m\u001b[0m\n\u001b[0;32m    600\u001b[0m     \u001b[1;32mdef\u001b[0m \u001b[0mfind_elements_by_css_selector\u001b[0m\u001b[1;33m(\u001b[0m\u001b[0mself\u001b[0m\u001b[1;33m,\u001b[0m \u001b[0mcss_selector\u001b[0m\u001b[1;33m)\u001b[0m\u001b[1;33m:\u001b[0m\u001b[1;33m\u001b[0m\u001b[1;33m\u001b[0m\u001b[0m\n",
      "\u001b[1;32m~\\anaconda3\\envs\\python\\lib\\site-packages\\selenium\\webdriver\\remote\\webdriver.py\u001b[0m in \u001b[0;36mfind_element\u001b[1;34m(self, by, value)\u001b[0m\n\u001b[0;32m    974\u001b[0m                 \u001b[0mby\u001b[0m \u001b[1;33m=\u001b[0m \u001b[0mBy\u001b[0m\u001b[1;33m.\u001b[0m\u001b[0mCSS_SELECTOR\u001b[0m\u001b[1;33m\u001b[0m\u001b[1;33m\u001b[0m\u001b[0m\n\u001b[0;32m    975\u001b[0m                 \u001b[0mvalue\u001b[0m \u001b[1;33m=\u001b[0m \u001b[1;34m'[name=\"%s\"]'\u001b[0m \u001b[1;33m%\u001b[0m \u001b[0mvalue\u001b[0m\u001b[1;33m\u001b[0m\u001b[1;33m\u001b[0m\u001b[0m\n\u001b[1;32m--> 976\u001b[1;33m         return self.execute(Command.FIND_ELEMENT, {\n\u001b[0m\u001b[0;32m    977\u001b[0m             \u001b[1;34m'using'\u001b[0m\u001b[1;33m:\u001b[0m \u001b[0mby\u001b[0m\u001b[1;33m,\u001b[0m\u001b[1;33m\u001b[0m\u001b[1;33m\u001b[0m\u001b[0m\n\u001b[0;32m    978\u001b[0m             'value': value})['value']\n",
      "\u001b[1;32m~\\anaconda3\\envs\\python\\lib\\site-packages\\selenium\\webdriver\\remote\\webdriver.py\u001b[0m in \u001b[0;36mexecute\u001b[1;34m(self, driver_command, params)\u001b[0m\n\u001b[0;32m    319\u001b[0m         \u001b[0mresponse\u001b[0m \u001b[1;33m=\u001b[0m \u001b[0mself\u001b[0m\u001b[1;33m.\u001b[0m\u001b[0mcommand_executor\u001b[0m\u001b[1;33m.\u001b[0m\u001b[0mexecute\u001b[0m\u001b[1;33m(\u001b[0m\u001b[0mdriver_command\u001b[0m\u001b[1;33m,\u001b[0m \u001b[0mparams\u001b[0m\u001b[1;33m)\u001b[0m\u001b[1;33m\u001b[0m\u001b[1;33m\u001b[0m\u001b[0m\n\u001b[0;32m    320\u001b[0m         \u001b[1;32mif\u001b[0m \u001b[0mresponse\u001b[0m\u001b[1;33m:\u001b[0m\u001b[1;33m\u001b[0m\u001b[1;33m\u001b[0m\u001b[0m\n\u001b[1;32m--> 321\u001b[1;33m             \u001b[0mself\u001b[0m\u001b[1;33m.\u001b[0m\u001b[0merror_handler\u001b[0m\u001b[1;33m.\u001b[0m\u001b[0mcheck_response\u001b[0m\u001b[1;33m(\u001b[0m\u001b[0mresponse\u001b[0m\u001b[1;33m)\u001b[0m\u001b[1;33m\u001b[0m\u001b[1;33m\u001b[0m\u001b[0m\n\u001b[0m\u001b[0;32m    322\u001b[0m             response['value'] = self._unwrap_value(\n\u001b[0;32m    323\u001b[0m                 response.get('value', None))\n",
      "\u001b[1;32m~\\anaconda3\\envs\\python\\lib\\site-packages\\selenium\\webdriver\\remote\\errorhandler.py\u001b[0m in \u001b[0;36mcheck_response\u001b[1;34m(self, response)\u001b[0m\n\u001b[0;32m    240\u001b[0m                 \u001b[0malert_text\u001b[0m \u001b[1;33m=\u001b[0m \u001b[0mvalue\u001b[0m\u001b[1;33m[\u001b[0m\u001b[1;34m'alert'\u001b[0m\u001b[1;33m]\u001b[0m\u001b[1;33m.\u001b[0m\u001b[0mget\u001b[0m\u001b[1;33m(\u001b[0m\u001b[1;34m'text'\u001b[0m\u001b[1;33m)\u001b[0m\u001b[1;33m\u001b[0m\u001b[1;33m\u001b[0m\u001b[0m\n\u001b[0;32m    241\u001b[0m             \u001b[1;32mraise\u001b[0m \u001b[0mexception_class\u001b[0m\u001b[1;33m(\u001b[0m\u001b[0mmessage\u001b[0m\u001b[1;33m,\u001b[0m \u001b[0mscreen\u001b[0m\u001b[1;33m,\u001b[0m \u001b[0mstacktrace\u001b[0m\u001b[1;33m,\u001b[0m \u001b[0malert_text\u001b[0m\u001b[1;33m)\u001b[0m\u001b[1;33m\u001b[0m\u001b[1;33m\u001b[0m\u001b[0m\n\u001b[1;32m--> 242\u001b[1;33m         \u001b[1;32mraise\u001b[0m \u001b[0mexception_class\u001b[0m\u001b[1;33m(\u001b[0m\u001b[0mmessage\u001b[0m\u001b[1;33m,\u001b[0m \u001b[0mscreen\u001b[0m\u001b[1;33m,\u001b[0m \u001b[0mstacktrace\u001b[0m\u001b[1;33m)\u001b[0m\u001b[1;33m\u001b[0m\u001b[1;33m\u001b[0m\u001b[0m\n\u001b[0m\u001b[0;32m    243\u001b[0m \u001b[1;33m\u001b[0m\u001b[0m\n\u001b[0;32m    244\u001b[0m     \u001b[1;32mdef\u001b[0m \u001b[0m_value_or_default\u001b[0m\u001b[1;33m(\u001b[0m\u001b[0mself\u001b[0m\u001b[1;33m,\u001b[0m \u001b[0mobj\u001b[0m\u001b[1;33m,\u001b[0m \u001b[0mkey\u001b[0m\u001b[1;33m,\u001b[0m \u001b[0mdefault\u001b[0m\u001b[1;33m)\u001b[0m\u001b[1;33m:\u001b[0m\u001b[1;33m\u001b[0m\u001b[1;33m\u001b[0m\u001b[0m\n",
      "\u001b[1;31mNoSuchWindowException\u001b[0m: Message: no such window: window was already closed\n  (Session info: chrome=97.0.4692.99)\n"
     ]
    }
   ],
   "source": [
    "driver.find_element_by_css_selector(\"span[class='css-1a5jpu7']\").text"
   ]
  },
  {
   "cell_type": "code",
   "execution_count": 90,
   "id": "8db8376b",
   "metadata": {},
   "outputs": [
    {
     "data": {
      "text/plain": [
       "'Nasr City, Cairo, Egypt'"
      ]
     },
     "execution_count": 90,
     "metadata": {},
     "output_type": "execute_result"
    }
   ],
   "source": [
    "driver.find_element_by_css_selector(\"span[class='css-5wys0k']\").text"
   ]
  },
  {
   "cell_type": "code",
   "execution_count": 115,
   "id": "8baf0b1e",
   "metadata": {},
   "outputs": [],
   "source": [
    "for job in jobs_per_page:\n",
    "        \n",
    "        \n",
    "        provider_location=job.find_element_by_css_selector(\"span[class='css-5wys0k']\")\n",
    "        provider_location_list.append(provider_location.text)"
   ]
  },
  {
   "cell_type": "code",
   "execution_count": 116,
   "id": "58d6066b",
   "metadata": {},
   "outputs": [
    {
     "data": {
      "text/plain": [
       "['Nasr City, Cairo, Egypt',\n",
       " 'New Cairo, Cairo, Egypt',\n",
       " 'Mokattam, Cairo, Egypt',\n",
       " 'Nasr City, Cairo, Egypt',\n",
       " 'Cairo, Egypt',\n",
       " 'Maadi, Cairo, Egypt',\n",
       " 'Dokki, Giza, Egypt',\n",
       " 'Cairo, Egypt',\n",
       " 'Katameya, Cairo, Egypt',\n",
       " 'Maadi, Cairo, Egypt',\n",
       " 'Cairo, Egypt',\n",
       " 'Nasr City, Cairo, Egypt',\n",
       " 'Nasr City, Cairo, Egypt',\n",
       " 'Cairo, Egypt',\n",
       " 'Cairo, Egypt']"
      ]
     },
     "execution_count": 116,
     "metadata": {},
     "output_type": "execute_result"
    }
   ],
   "source": [
    "provider_location_list"
   ]
  },
  {
   "cell_type": "code",
   "execution_count": 211,
   "id": "9b3f6997",
   "metadata": {},
   "outputs": [
    {
     "data": {
      "text/plain": [
       "['i', 'really', \"couldn't\", 'give', 'a', 'fuck', 'if', \"i'm\", 'blocked']"
      ]
     },
     "execution_count": 211,
     "metadata": {},
     "output_type": "execute_result"
    }
   ],
   "source": [
    "text=\"i really couldn't give a fuck if i'm blocked\"\n",
    "token=[token for token in text.lower().split(' ') if token !='']\n",
    "token"
   ]
  },
  {
   "cell_type": "code",
   "execution_count": 225,
   "id": "19c47aa1",
   "metadata": {},
   "outputs": [
    {
     "data": {
      "text/plain": [
       "['i', 'really', \"couldn't\", 'give', 'a', 'fuck', 'if', \"i'm\", 'blocked']"
      ]
     },
     "execution_count": 225,
     "metadata": {},
     "output_type": "execute_result"
    }
   ],
   "source": [
    "ngrams=zip(*[token[i:] for i in range(1)])\n",
    "[' '.join(ngram) for ngram in ngrams]\n"
   ]
  },
  {
   "cell_type": "code",
   "execution_count": 227,
   "id": "448997b4",
   "metadata": {},
   "outputs": [
    {
     "name": "stdout",
     "output_type": "stream",
     "text": [
      "('i', 'really')\n",
      "('really', \"couldn't\")\n",
      "(\"couldn't\", 'give')\n",
      "('give', 'a')\n",
      "('a', 'fuck')\n",
      "('fuck', 'if')\n",
      "('if', \"i'm\")\n",
      "(\"i'm\", 'blocked')\n"
     ]
    }
   ],
   "source": [
    "for i in zip(*[token[i:] for i in range(2)]):\n",
    "    print(i)"
   ]
  },
  {
   "cell_type": "code",
   "execution_count": null,
   "id": "a889cfcf",
   "metadata": {},
   "outputs": [],
   "source": []
  },
  {
   "cell_type": "code",
   "execution_count": null,
   "id": "05646838",
   "metadata": {},
   "outputs": [],
   "source": []
  }
 ],
 "metadata": {
  "kernelspec": {
   "display_name": "Python 3",
   "language": "python",
   "name": "python3"
  },
  "language_info": {
   "codemirror_mode": {
    "name": "ipython",
    "version": 3
   },
   "file_extension": ".py",
   "mimetype": "text/x-python",
   "name": "python",
   "nbconvert_exporter": "python",
   "pygments_lexer": "ipython3",
   "version": "3.8.8"
  }
 },
 "nbformat": 4,
 "nbformat_minor": 5
}
