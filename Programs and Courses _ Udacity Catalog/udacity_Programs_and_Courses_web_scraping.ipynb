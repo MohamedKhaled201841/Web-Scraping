{
  "nbformat": 4,
  "nbformat_minor": 0,
  "metadata": {
    "colab": {
      "name": "udacity Programs and Courses web scraping.ipynb",
      "provenance": []
    },
    "kernelspec": {
      "name": "python3",
      "display_name": "Python 3"
    },
    "language_info": {
      "name": "python"
    }
  },
  "cells": [
    {
      "cell_type": "code",
      "metadata": {
        "id": "wrM68e5H_rT4"
      },
      "source": [
        "from bs4 import BeautifulSoup\n",
        "import os\n",
        "import pandas as pd\n",
        "import requests"
      ],
      "execution_count": 7,
      "outputs": []
    },
    {
      "cell_type": "code",
      "metadata": {
        "id": "_GpkqlPDCqIY"
      },
      "source": [
        "with open(\"/content/Explore our Programs and Courses _ Udacity Catalog.html\") as file:\n",
        "  soup = BeautifulSoup(file, 'html.parser')\n",
        "  "
      ],
      "execution_count": 8,
      "outputs": []
    },
    {
      "cell_type": "code",
      "metadata": {
        "id": "kmja18GZES4L"
      },
      "source": [
        "soup.find(\"title\").contents\n",
        "length_of_html=265"
      ],
      "execution_count": 9,
      "outputs": []
    },
    {
      "cell_type": "code",
      "metadata": {
        "id": "t4JNg3EVQjWf"
      },
      "source": [
        "name=[]\n",
        "for i in range(length_of_html):\n",
        "  name.append(soup.find_all(\"h2\",class_=\"card_title__35G97\")[i].contents[0])\n"
      ],
      "execution_count": 10,
      "outputs": []
    },
    {
      "cell_type": "code",
      "metadata": {
        "id": "ljMbHW36FN10"
      },
      "source": [
        "about=[]\n",
        "for i in range(length_of_html):\n",
        "  try:\n",
        "      about.append(soup.find_all(\"p\",class_=\"card_summary__1HlQ7\")[i].contents[0])\n",
        "  except:\n",
        "    about.append(\" \")\n",
        "\n"
      ],
      "execution_count": 11,
      "outputs": []
    },
    {
      "cell_type": "code",
      "metadata": {
        "id": "mQsz29B6TVYs"
      },
      "source": [
        "urls=[]\n",
        "for i in range(length_of_html):\n",
        "  try:\n",
        "    urls.append(soup.find_all(\"a\",class_=\"card_container__25DrK\")[i][\"href\"])\n",
        "  except:\n",
        "    about.append(\" \")\n",
        "\n"
      ],
      "execution_count": 12,
      "outputs": []
    },
    {
      "cell_type": "code",
      "metadata": {
        "id": "lde4EVW1QVgy"
      },
      "source": [
        "levels=[]\n",
        "for i in range(length_of_html):\n",
        "  try:\n",
        "    levels.append(soup.find_all(\"div\",class_=\"card_stats__AV1N0\")[i].span.contents[0])\n",
        "  except:\n",
        "    levels.append(\" \")\n"
      ],
      "execution_count": 13,
      "outputs": []
    },
    {
      "cell_type": "code",
      "metadata": {
        "id": "D85Fa4sVe7jk"
      },
      "source": [
        "duration=[]\n",
        "\n",
        "for i in range(length_of_html):\n",
        "  try:\n",
        "    duration.append(soup.find_all(\"span\",class_=\"card_duration__1hWII\")[i].contents[0])\n",
        "  except:\n",
        "    duration.append(\" \")\n"
      ],
      "execution_count": 14,
      "outputs": []
    },
    {
      "cell_type": "code",
      "metadata": {
        "colab": {
          "base_uri": "https://localhost:8080/",
          "height": 35
        },
        "id": "iunlytUBe7sp",
        "outputId": "80b9ce37-ca07-401f-a2b0-008dc51c8d88"
      },
      "source": [
        "soup.find_all(\"p\",class_=\"card_detailContent__2eJIl\")[0].contents[0]"
      ],
      "execution_count": 15,
      "outputs": [
        {
          "output_type": "execute_result",
          "data": {
            "application/vnd.google.colaboratory.intrinsic+json": {
              "type": "string"
            },
            "text/plain": [
              "'Data Modeling, Data Pipelines, Data Lakes, Spark, Airflow'"
            ]
          },
          "metadata": {},
          "execution_count": 15
        }
      ]
    },
    {
      "cell_type": "code",
      "metadata": {
        "id": "_KmmWFRFe73O"
      },
      "source": [
        "skills=[]\n",
        "\n",
        "for i in range(length_of_html):\n",
        "  try:\n",
        "    skills.append(soup.find_all(\"div\",attrs={'class':\"card_details__3VdjA\"})[i].contents[1].contents[0])\n",
        "  except:\n",
        "    skills.append(\" \")"
      ],
      "execution_count": 16,
      "outputs": []
    },
    {
      "cell_type": "code",
      "metadata": {
        "id": "14JYdHzEe8AC"
      },
      "source": [
        "prerequisites=[]\n",
        "\n",
        "for i in range(length_of_html):\n",
        "  try:\n",
        "    prerequisites.append(soup.find_all(\"div\",attrs={'class':\"card_details__3VdjA\"})[i].contents[3].contents[0])\n",
        "  except:\n",
        "    prerequisites.append(\" \")"
      ],
      "execution_count": 17,
      "outputs": []
    },
    {
      "cell_type": "code",
      "metadata": {
        "id": "-aEfGP-ke8GV"
      },
      "source": [
        "duration=[]\n",
        "soup.find_all(\"span\",attrs={'class':\"card_duration__1hWII\"})[0].contents[0]\n",
        "for i in range(length_of_html):\n",
        "  try:\n",
        "    duration.append(soup.find_all(\"span\",attrs={'class':\"card_duration__1hWII\"})[i].contents[0])\n",
        "  except:\n",
        "    duration.append(\" \")"
      ],
      "execution_count": 18,
      "outputs": []
    },
    {
      "cell_type": "code",
      "metadata": {
        "colab": {
          "base_uri": "https://localhost:8080/",
          "height": 35
        },
        "id": "TMt6UcwOe8OK",
        "outputId": "c2c6eeae-eb39-45f5-b5af-0d2f9557d89b"
      },
      "source": [
        "duration[3]"
      ],
      "execution_count": 19,
      "outputs": [
        {
          "output_type": "execute_result",
          "data": {
            "application/vnd.google.colaboratory.intrinsic+json": {
              "type": "string"
            },
            "text/plain": [
              "'5 Months'"
            ]
          },
          "metadata": {},
          "execution_count": 19
        }
      ]
    },
    {
      "cell_type": "code",
      "metadata": {
        "id": "Pini9DoJe8VN"
      },
      "source": [
        "websites=[]\n",
        "for i in range(length_of_html):\n",
        "  websites.append(\"Udacity\")"
      ],
      "execution_count": 20,
      "outputs": []
    },
    {
      "cell_type": "code",
      "metadata": {
        "id": "D74BvQ21e8bT"
      },
      "source": [
        ""
      ],
      "execution_count": 20,
      "outputs": []
    },
    {
      "cell_type": "code",
      "metadata": {
        "id": "Qr6bFSsXc_gm"
      },
      "source": [
        ""
      ],
      "execution_count": 21,
      "outputs": []
    }
  ]
}